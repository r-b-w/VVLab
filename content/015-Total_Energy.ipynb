{
 "cells": [
  {
   "cell_type": "markdown",
   "id": "258e3fbd-14ad-4c7a-830c-05d32f7a9a1a",
   "metadata": {},
   "source": [
    "# Energia mecânica Total\n",
    "\n",
    "Demonstração de que a frequência natural é a única frequência na qual um oscilador harmônico tem energia mecânica total constante.\n",
    "\n"
   ]
  },
  {
   "cell_type": "markdown",
   "id": "2670ec1d-4322-4512-a514-40209c068690",
   "metadata": {},
   "source": [
    "Para um oscilador harmônico, o deslocamento é dado por\n",
    "\n",
    "$$ x(t) = A \\cos(\\omega t - \\phi), $$\n",
    "\n",
    "então a velocidade é dada por\n",
    "\n",
    "$$ \\dot x(t) = -\\omega A \\sin(\\omega t - \\phi).$$\n",
    "\n",
    "As energias potencial e cinética do oscilador variam com o tempo, e sâo dadas por,\n",
    "\n",
    "$$ U(t) = \\frac{1}{2} k x(t)^2, \\quad T(t) = \\frac{1}{2} m \\dot x(t)^2,$$\n",
    "\n",
    "e para o caso do oscilador harmônico, temos\n",
    "\n",
    "$$ U(t) = \\frac{1}{2} k\\left( A \\cos(\\omega t - \\phi)\\right)^2, \\quad T(t) = \\frac{1}{2} m \\left( -\\omega A \\sin(\\omega t - \\phi) \\right)^2,$$\n",
    "\n",
    "ou\n",
    "\n",
    "$$ U(t) = \\frac{1}{2} k A^2 \\cos^2(\\omega t - \\phi), \\quad T(t) = \\frac{1}{2} m \\omega^2 A^2 \\sin^2(\\omega t - \\phi).$$\n"
   ]
  },
  {
   "cell_type": "markdown",
   "id": "45939321-f249-460f-81c5-d5b730579330",
   "metadata": {},
   "source": [
    "Mas sabemos que\n",
    "$$ \\cos^2(a) = \\frac{1}{2}\\left(1+\\cos 2a \\right), \\quad\n",
    "\\sin^2(a) = \\frac{1}{2}\\left(1-\\cos 2a \\right),\n",
    "$$\n",
    "então tanto a energia potencial quanto a energia cinética são senoidais, sempre positivas, com a frequência igual ao dobro da frequência de oscilação."
   ]
  },
  {
   "cell_type": "markdown",
   "id": "a7efaab7-14f8-4a37-86c6-fe18323a859d",
   "metadata": {},
   "source": [
    "Para um sistema não amortecido, não há dissipação de energia e portanto a energia mecânica total é constante, isto é\n",
    "\n",
    "$$ E(t) = U(t) + T(t) =  \\frac{1}{2} k A^2 \\cos(\\omega t - \\phi)^2 +\\frac{1}{2} m \\omega^2 A^2 \\sin(\\omega t - \\phi)^2 = \\text{cte.}$$\n",
    "\n",
    "A única maneira para que esta soma independa do tempo é se $k = m \\omega^2$, que nos permite colocar em evidência qualquer um dos lados desta equação, por exemplo, colocando $k$ em evidência,\n",
    "\n",
    "$$ E(t) = U(t) + T(t) =  \\frac{1}{2} k A^2 \\left( \\cos^2(\\omega t - \\phi) +   \\sin^2(\\omega t - \\phi) \\right)  =  \\frac{1}{2} k A^2, $$\n",
    "\n",
    "que é a energia potencial máxima, ou, de forma análoga, colocando $m\\omega^2$ em evidência, \n",
    "\n",
    "$$ E(t) = U(t) + T(t) =   \\frac{1}{2} m\\omega^2 A^2,$$\n",
    "\n",
    "que é energia cinética máxima do oscilador harmônico.\n",
    "\n",
    "É claro então que a única frequência para qual a energia mecânica total é constante é a que resolve a equação $k = m \\omega^2$, portanto é\n",
    "\n",
    "$$ \\omega = \\omega_n = \\sqrt\\frac{k}{m}.$$"
   ]
  },
  {
   "cell_type": "markdown",
   "id": "661b3a17-baf4-40f1-bdf4-e2199b25880b",
   "metadata": {},
   "source": [
    "## Exemplo numérico\n",
    "\n",
    "Vamos considerar um oscilador com $m=1\\,\\text{kg}$ e $k = 40\\,\\text{N}/{\\text{m}}$, cujas condições iniciais são tais que a amplitude de vibração é unitária e o ângulo de fase é 45 graus."
   ]
  },
  {
   "cell_type": "code",
   "execution_count": 4,
   "id": "0f405d36-bc53-4b31-bb46-277528fdb698",
   "metadata": {},
   "outputs": [],
   "source": [
    "import numpy as np\n",
    "import matplotlib.pyplot as plt\n",
    "from ipywidgets import BoundedFloatText, interact"
   ]
  },
  {
   "cell_type": "code",
   "execution_count": 5,
   "id": "0f2f5b29-cf90-42d9-bd5f-9254a116a899",
   "metadata": {},
   "outputs": [
    {
     "name": "stdout",
     "output_type": "stream",
     "text": [
      "ωn = 6.3246\n"
     ]
    }
   ],
   "source": [
    "m = 1\n",
    "k = 40\n",
    "A = 1\n",
    "ϕ = np.pi/4\n",
    "ωn = np.sqrt(k/m)\n",
    "print(f'ωn = {ωn:.4f}')"
   ]
  },
  {
   "cell_type": "code",
   "execution_count": 6,
   "id": "b9b9a826-30d2-4bba-a595-780d7a7e2e06",
   "metadata": {},
   "outputs": [
    {
     "data": {
      "application/vnd.jupyter.widget-view+json": {
       "model_id": "32f8f0ca7ab94529a9e0d4fd2a5c77e6",
       "version_major": 2,
       "version_minor": 0
      },
      "text/plain": [
       "interactive(children=(BoundedFloatText(value=6.324555320336759, description='ω', max=12.649110640673518, step=…"
      ]
     },
     "metadata": {},
     "output_type": "display_data"
    }
   ],
   "source": [
    "τn = 2*np.pi/ωn\n",
    "nt = 10   # Number of periods to plot\n",
    "ntp = 31   # Points to plot per period\n",
    "tf  =  nt*τn    # final time\n",
    "ntt =  ntp*nt    # total number of points\n",
    "Emax = 0.5*k*A**2\n",
    "\n",
    "times = np.linspace(0, tf, ntt)\n",
    "\n",
    "Aw = BoundedFloatText(value=ωn, min=0, max=2*ωn, step=0.1, readout_format='.2f', label='Frequência:')\n",
    "\n",
    "@interact(ω=Aw)\n",
    "def do_plot(ω):\n",
    "    U = 0.5*(A**2)*k*np.cos(ω*times - ϕ)**2\n",
    "    T = 0.5*(A**2)*m*(ω**2)*np.sin(ω*times - ϕ)**2\n",
    "    E = U + T\n",
    "    fig, ax = plt.subplots()\n",
    "    fig.set_figheight(3)\n",
    "    fig.set_figwidth(9)\n",
    "    ax.set_title('Energia Mecânica')\n",
    "    ax.set_xlabel('Tempo (s)')\n",
    "    ax.set_ylabel('Energia (J)')\n",
    "    ax.set_ylim(0, 3*Emax)\n",
    "    ax.plot(times, U, label='Potencial', color='red')\n",
    "    ax.plot(times, T, label='Cinética', color='blue')\n",
    "    ax.plot(times, E, label='Total', color='black')\n",
    "    ax.legend()"
   ]
  },
  {
   "cell_type": "code",
   "execution_count": null,
   "id": "ca51b430-558f-4855-b5a6-f5ad5a671d1c",
   "metadata": {},
   "outputs": [],
   "source": []
  },
  {
   "cell_type": "code",
   "execution_count": null,
   "id": "4d6c7a98-a761-408a-a79c-9377ed1e5055",
   "metadata": {},
   "outputs": [],
   "source": []
  }
 ],
 "metadata": {
  "kernelspec": {
   "display_name": "Python 3 (ipykernel)",
   "language": "python",
   "name": "python3"
  },
  "language_info": {
   "codemirror_mode": {
    "name": "ipython",
    "version": 3
   },
   "file_extension": ".py",
   "mimetype": "text/x-python",
   "name": "python",
   "nbconvert_exporter": "python",
   "pygments_lexer": "ipython3",
   "version": "3.11.5"
  }
 },
 "nbformat": 4,
 "nbformat_minor": 5
}
