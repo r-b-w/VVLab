{
 "cells": [
  {
   "cell_type": "markdown",
   "metadata": {},
   "source": [
    "# Simple demonstration of harmonic function operations"
   ]
  },
  {
   "cell_type": "code",
   "execution_count": 38,
   "metadata": {},
   "outputs": [],
   "source": [
    "import copy\n",
    "from sympy import sin, symbols, plot, pi\n",
    "from ipywidgets import interactive, FloatSlider, BoundedFloatText, BoundedIntText, \\\n",
    "                    Checkbox, HBox, VBox, Layout, Label\n",
    "import matplotlib.pyplot as plt\n",
    "plt.rcParams['figure.figsize'] = 10, 4\n",
    "plt.rcParams['legend.loc'] = 'lower right'"
   ]
  },
  {
   "cell_type": "markdown",
   "metadata": {},
   "source": [
    "## Amplitude, frequency and phase\n",
    "\n",
    "Manipulates $A \\sin(2\\pi f t + \\phi)$."
   ]
  },
  {
   "cell_type": "code",
   "execution_count": 39,
   "metadata": {},
   "outputs": [
    {
     "data": {
      "application/vnd.jupyter.widget-view+json": {
       "model_id": "5007f84eab064ed6b2f11c4fd2ad3070",
       "version_major": 2,
       "version_minor": 0
      },
      "text/plain": [
       "VBox(children=(VBox(children=(HBox(children=(Label(value='Amplitude ', layout=Layout(width='100px')), FloatSli…"
      ]
     },
     "metadata": {},
     "output_type": "display_data"
    }
   ],
   "source": [
    "def harmonic(A, f, phi):\n",
    "    t = symbols('t')\n",
    "    omega=2*pi*f\n",
    "    phi=phi*pi/180.0\n",
    "    plot(A*sin(omega*t+phi), adaptive=True, autoscale=False, xlim=(-3*tmax, 3*tmax), ylim=(-1.1*amax, 1.1*amax))\n",
    "\n",
    "label_layout=Layout(width='100px')\n",
    "fmax = 3.0\n",
    "tmax = 2*pi/fmax\n",
    "amax = 2\n",
    "\n",
    "Aw = FloatSlider(value=1, min=0, max=amax, step=0.1, readout_format='.1f', continuous_update=False)\n",
    "AwL = Label('Amplitude ', layout=label_layout)\n",
    "\n",
    "Fw = FloatSlider(value=1, min=0, max=fmax, step=0.1, readout_format='.2f', continuous_update=True)\n",
    "FwL = Label('Frequência (Hz) ', layout=label_layout)\n",
    "\n",
    "Pw = FloatSlider(value=0, min=0, max=360, step=2, readout_format='.1f', continuous_update=False)\n",
    "PwL = Label('Fase (Graus) ', layout=label_layout)\n",
    "\n",
    "w = interactive(harmonic, A=Aw, f=Fw, phi=Pw)\n",
    "lbox = VBox([HBox([AwL, Aw]), HBox([FwL, Fw]),HBox([PwL, Pw])])\n",
    "h = VBox([lbox, w.children[-1]])\n",
    "display(h)\n",
    "w.update()"
   ]
  },
  {
   "cell_type": "markdown",
   "metadata": {},
   "source": [
    "## Sum of harmonic functions"
   ]
  },
  {
   "cell_type": "markdown",
   "metadata": {},
   "source": [
    "Plots $A_1\\sin(2 \\pi f_1 t + \\phi_1) + A_2\\sin(2\\pi f_2 t + \\phi_2)$, with $f$ in Hz and $\\phi$ in degrees."
   ]
  },
  {
   "cell_type": "code",
   "execution_count": 40,
   "metadata": {},
   "outputs": [
    {
     "data": {
      "application/vnd.jupyter.widget-view+json": {
       "model_id": "8078f879c4d14791a7210e7883cd1161",
       "version_major": 2,
       "version_minor": 0
      },
      "text/plain": [
       "VBox(children=(HBox(children=(VBox(children=(BoundedFloatText(value=1.0, description='A1:', max=10.0, step=0.2…"
      ]
     },
     "metadata": {},
     "output_type": "display_data"
    }
   ],
   "source": [
    "t = symbols('t')\n",
    "\n",
    "def harmonic_sum(A1, f1, phi1, A2, f2, phi2, ntau):\n",
    "    label1 = \"$x_1 = {:4.1f}\\, \\sin(2 \\pi \\, {:4.1f} + {:4.1f}$)\".format(A1, f1, phi1)\n",
    "    label2 = \"$x_2 = {:4.1f}\\, \\sin(2 \\pi \\, {:4.1f} + {:4.1f}$)\".format(A2, f2, phi2)\n",
    "    w1 = 2*pi*f1\n",
    "    w2 = 2*pi*f2\n",
    "    phi1 *= pi/180.0\n",
    "    phi2 *= pi/180.0\n",
    "    f1 = A1*sin(w1*t+phi1)\n",
    "    f2 = A2*sin(w2*t+phi2)\n",
    "    w = min(w1, w2)\n",
    "    tau = 2*pi/w\n",
    "    f = f1 + f2\n",
    "    tend=ntau*tau\n",
    "    plot(f1, f2, f1+f2, (t, 0, tend), legend=True, adaptive=False, nb_of_points=ntau*30)\n",
    "\n",
    "A1w = BoundedFloatText(value=1.0, min=0, max=10, step=0.25, description='A1:')\n",
    "A2w = BoundedFloatText(value=1.0, min=0, max=10, step=0.25, description='A2:')\n",
    "f1w = BoundedFloatText(value=2.0, min=0, max=5, step=0.25, description='ω1:')\n",
    "f2w = BoundedFloatText(value=2.0, min=0, max=5, step=0.25, description='ω2:')\n",
    "phi1w = BoundedFloatText(value=0.0, min=0, max=360, step=5, description='ϕ1 (degree):')\n",
    "phi2w = BoundedFloatText(value=90, min=0, max=360, step=5, description='ϕ2 (degree):')\n",
    "ntw = BoundedIntText(value=3, min=1, max=500, step=1, description=u'nº Periods')\n",
    "\n",
    "w = interactive(harmonic_sum, A1=A1w, f1=f1w, phi1=phi1w, A2=A2w, f2=f2w, phi2=phi2w, ntau=ntw)\n",
    "controls = HBox( [ VBox(w.children[:3]), VBox(w.children[3:6]), ntw])\n",
    "d = VBox([controls, w.children[-1]])\n",
    "display(d)\n",
    "w.update()"
   ]
  },
  {
   "cell_type": "markdown",
   "metadata": {},
   "source": [
    "## Special case, triphase sum"
   ]
  },
  {
   "cell_type": "markdown",
   "metadata": {},
   "source": [
    "Plots $\\sin(2\\pi t) + \\sin(2\\pi t + 2\\pi/3) + \\sin(2\\pi t + 4\\pi/3)$, incrementally."
   ]
  },
  {
   "cell_type": "code",
   "execution_count": 41,
   "metadata": {},
   "outputs": [
    {
     "data": {
      "application/vnd.jupyter.widget-view+json": {
       "model_id": "2f557932794a46c9a30a8676f011b9af",
       "version_major": 2,
       "version_minor": 0
      },
      "text/plain": [
       "VBox(children=(HBox(children=(Checkbox(value=True, description='ϕ = 0'), Checkbox(value=False, description='ϕ …"
      ]
     },
     "metadata": {},
     "output_type": "display_data"
    }
   ],
   "source": [
    "s1 = sin(2*pi*t)\n",
    "s2 = sin(2*pi*t+2*pi/3)\n",
    "s3 = sin(2*pi*t+4*pi/3)\n",
    "p1 = plot(s1, (t, 0, 5), legend=True, label='0', show=False) \n",
    "p2 = plot(s2, (t, 0, 5), legend=True, label='120', show=False) \n",
    "p3 = plot(s3, (t, 0, 5), legend=True, label='240', show=False) \n",
    "\n",
    "def triphase_sum(f1, f2, f3, fs):\n",
    "    ps = 0\n",
    "    pp = None\n",
    "    ic(ps, pp)\n",
    "    for f, p, s in zip([f1, f2, f3], [p1, p2, p3], [s1, s2, s3]):\n",
    "        if f:\n",
    "            if not pp: pp = copy.deepcopy(p)\n",
    "            else: pp.append(p[0])\n",
    "            ps += s\n",
    "\n",
    "    if fs:\n",
    "        psum = plot(ps, (t, 0, 5), legend=True, label='sum', show=False) \n",
    "        if not pp: pp = copy.deepcopy(psum)\n",
    "        else: pp.append(psum[0])\n",
    "\n",
    "    if pp: pp.show()\n",
    "\n",
    "f1w = Checkbox(value=True, description='ϕ = 0')\n",
    "f2w = Checkbox(value=False, description='ϕ = 120')\n",
    "f3w = Checkbox(value=False, description='ϕ = 240')\n",
    "fsw = Checkbox(value=True, description='Sum')\n",
    "w = interactive(triphase_sum, f1=f1w, f2=f2w, f3=f3w, fs=fsw)\n",
    "controls = HBox(w.children[:-1])\n",
    "d = VBox([controls, w.children[-1]])\n",
    "display(d)\n",
    "w.update()"
   ]
  },
  {
   "cell_type": "code",
   "execution_count": null,
   "metadata": {},
   "outputs": [],
   "source": []
  }
 ],
 "metadata": {
  "kernelspec": {
   "display_name": "Python 3 (ipykernel)",
   "language": "python",
   "name": "python3"
  },
  "language_info": {
   "codemirror_mode": {
    "name": "ipython",
    "version": 3
   },
   "file_extension": ".py",
   "mimetype": "text/x-python",
   "name": "python",
   "nbconvert_exporter": "python",
   "pygments_lexer": "ipython3",
   "version": "3.11.5"
  }
 },
 "nbformat": 4,
 "nbformat_minor": 4
}
